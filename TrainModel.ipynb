{
 "cells": [
  {
   "cell_type": "code",
   "execution_count": 47,
   "metadata": {},
   "outputs": [],
   "source": [
    "import warnings\n",
    "import os\n",
    "from IPython.display import Audio, display\n",
    "import numpy as np\n",
    "import librosa\n",
    "from librosa.display import specshow\n",
    "import pandas as pd\n",
    "import matplotlib.pyplot as plt\n",
    "from scipy.fftpack import fft, dct, ifft\n",
    "from sklearn.model_selection import train_test_split\n",
    "from scipy.stats import norm\n",
    "warnings.simplefilter('ignore')\n",
    "%matplotlib inline"
   ]
  },
  {
   "cell_type": "code",
   "execution_count": null,
   "metadata": {},
   "outputs": [],
   "source": [
    "import pywt"
   ]
  },
  {
   "cell_type": "code",
   "execution_count": 4,
   "metadata": {},
   "outputs": [],
   "source": [
    "train_fl = pd.read_csv('./train_files.csv', header=None)\n",
    "test_fl = pd.read_csv('./test_files.csv', header=None)\n",
    "valid_fl = pd.read_csv('./val_files.csv', header=None)"
   ]
  },
  {
   "cell_type": "code",
   "execution_count": 5,
   "metadata": {},
   "outputs": [],
   "source": [
    "data = pd.read_csv('./data/list_mfccs.csv')"
   ]
  },
  {
   "cell_type": "code",
   "execution_count": 6,
   "metadata": {},
   "outputs": [],
   "source": [
    "import sklearn"
   ]
  },
  {
   "cell_type": "code",
   "execution_count": 49,
   "metadata": {},
   "outputs": [],
   "source": [
    "from sklearn.mixture import GaussianMixture\n",
    "from sklearn import preprocessing"
   ]
  },
  {
   "cell_type": "code",
   "execution_count": 8,
   "metadata": {},
   "outputs": [],
   "source": [
    "cols = ['mfcc_%s'%i for i in range(1, 40)]\n",
    "scaler = preprocessing.StandardScaler()\n",
    "scaled_df = scaler.fit_transform(data[cols])\n"
   ]
  },
  {
   "cell_type": "code",
   "execution_count": 9,
   "metadata": {},
   "outputs": [],
   "source": [
    "data_scaled = data.copy()\n",
    "data_scaled[cols] = pd.DataFrame(scaled_df)"
   ]
  },
  {
   "cell_type": "code",
   "execution_count": 10,
   "metadata": {},
   "outputs": [],
   "source": [
    "train = data_scaled[data.filename.map(lambda x: x in set(train_fl[1]))]\n",
    "test = data_scaled[data.filename.map(lambda x: x in set(test_fl[1]))]\n",
    "val = data_scaled[data.filename.map(lambda x: x in set(valid_fl[1]))]"
   ]
  },
  {
   "cell_type": "code",
   "execution_count": 48,
   "metadata": {},
   "outputs": [],
   "source": [
    "train['idx'] = list(train.index)\n",
    "test['idx'] = list(test.index)\n",
    "val['idx'] = list(val.index)"
   ]
  },
  {
   "cell_type": "code",
   "execution_count": 22,
   "metadata": {
    "scrolled": true
   },
   "outputs": [
    {
     "data": {
      "text/html": [
       "<div>\n",
       "<style scoped>\n",
       "    .dataframe tbody tr th:only-of-type {\n",
       "        vertical-align: middle;\n",
       "    }\n",
       "\n",
       "    .dataframe tbody tr th {\n",
       "        vertical-align: top;\n",
       "    }\n",
       "\n",
       "    .dataframe thead th {\n",
       "        text-align: right;\n",
       "    }\n",
       "</style>\n",
       "<table border=\"1\" class=\"dataframe\">\n",
       "  <thead>\n",
       "    <tr style=\"text-align: right;\">\n",
       "      <th></th>\n",
       "      <th>filename</th>\n",
       "      <th>class</th>\n",
       "      <th>lbl</th>\n",
       "      <th>mfcc_1</th>\n",
       "      <th>mfcc_2</th>\n",
       "      <th>mfcc_3</th>\n",
       "      <th>mfcc_4</th>\n",
       "      <th>mfcc_5</th>\n",
       "      <th>mfcc_6</th>\n",
       "      <th>mfcc_7</th>\n",
       "      <th>...</th>\n",
       "      <th>mfcc_31</th>\n",
       "      <th>mfcc_32</th>\n",
       "      <th>mfcc_33</th>\n",
       "      <th>mfcc_34</th>\n",
       "      <th>mfcc_35</th>\n",
       "      <th>mfcc_36</th>\n",
       "      <th>mfcc_37</th>\n",
       "      <th>mfcc_38</th>\n",
       "      <th>mfcc_39</th>\n",
       "      <th>idx</th>\n",
       "    </tr>\n",
       "  </thead>\n",
       "  <tbody>\n",
       "    <tr>\n",
       "      <th>0</th>\n",
       "      <td>blues/blues.00000.au</td>\n",
       "      <td>blues</td>\n",
       "      <td>1</td>\n",
       "      <td>-0.724054</td>\n",
       "      <td>-0.500629</td>\n",
       "      <td>-0.165197</td>\n",
       "      <td>-0.224717</td>\n",
       "      <td>0.344881</td>\n",
       "      <td>0.522743</td>\n",
       "      <td>-1.350355</td>\n",
       "      <td>...</td>\n",
       "      <td>0.028203</td>\n",
       "      <td>-0.075622</td>\n",
       "      <td>-0.863715</td>\n",
       "      <td>-1.345201</td>\n",
       "      <td>-0.072421</td>\n",
       "      <td>0.18751</td>\n",
       "      <td>0.406762</td>\n",
       "      <td>0.196529</td>\n",
       "      <td>-0.217599</td>\n",
       "      <td>0</td>\n",
       "    </tr>\n",
       "    <tr>\n",
       "      <th>1</th>\n",
       "      <td>blues/blues.00000.au</td>\n",
       "      <td>blues</td>\n",
       "      <td>1</td>\n",
       "      <td>-0.525030</td>\n",
       "      <td>-0.067544</td>\n",
       "      <td>-0.145980</td>\n",
       "      <td>0.647703</td>\n",
       "      <td>0.637306</td>\n",
       "      <td>0.695705</td>\n",
       "      <td>-0.702556</td>\n",
       "      <td>...</td>\n",
       "      <td>0.028203</td>\n",
       "      <td>-0.075622</td>\n",
       "      <td>-0.863715</td>\n",
       "      <td>-1.345201</td>\n",
       "      <td>-0.072421</td>\n",
       "      <td>0.18751</td>\n",
       "      <td>0.268448</td>\n",
       "      <td>0.196529</td>\n",
       "      <td>-0.217599</td>\n",
       "      <td>1</td>\n",
       "    </tr>\n",
       "    <tr>\n",
       "      <th>2</th>\n",
       "      <td>blues/blues.00000.au</td>\n",
       "      <td>blues</td>\n",
       "      <td>1</td>\n",
       "      <td>-0.590512</td>\n",
       "      <td>-0.206208</td>\n",
       "      <td>-0.388126</td>\n",
       "      <td>0.741486</td>\n",
       "      <td>0.722044</td>\n",
       "      <td>0.497295</td>\n",
       "      <td>-0.975393</td>\n",
       "      <td>...</td>\n",
       "      <td>0.028203</td>\n",
       "      <td>-0.075622</td>\n",
       "      <td>-0.863715</td>\n",
       "      <td>-1.345201</td>\n",
       "      <td>-0.072421</td>\n",
       "      <td>0.18751</td>\n",
       "      <td>0.325000</td>\n",
       "      <td>0.196529</td>\n",
       "      <td>-0.217599</td>\n",
       "      <td>2</td>\n",
       "    </tr>\n",
       "    <tr>\n",
       "      <th>3</th>\n",
       "      <td>blues/blues.00000.au</td>\n",
       "      <td>blues</td>\n",
       "      <td>1</td>\n",
       "      <td>-0.498473</td>\n",
       "      <td>-0.023238</td>\n",
       "      <td>-0.278193</td>\n",
       "      <td>0.395156</td>\n",
       "      <td>-0.000983</td>\n",
       "      <td>0.510387</td>\n",
       "      <td>-1.066385</td>\n",
       "      <td>...</td>\n",
       "      <td>0.028203</td>\n",
       "      <td>-0.075622</td>\n",
       "      <td>-0.863715</td>\n",
       "      <td>-1.345201</td>\n",
       "      <td>-0.072421</td>\n",
       "      <td>0.18751</td>\n",
       "      <td>0.239851</td>\n",
       "      <td>0.196529</td>\n",
       "      <td>-0.217599</td>\n",
       "      <td>3</td>\n",
       "    </tr>\n",
       "    <tr>\n",
       "      <th>4</th>\n",
       "      <td>blues/blues.00000.au</td>\n",
       "      <td>blues</td>\n",
       "      <td>1</td>\n",
       "      <td>-0.456160</td>\n",
       "      <td>-0.403885</td>\n",
       "      <td>-0.030121</td>\n",
       "      <td>1.040700</td>\n",
       "      <td>0.450166</td>\n",
       "      <td>1.400972</td>\n",
       "      <td>0.105636</td>\n",
       "      <td>...</td>\n",
       "      <td>0.028203</td>\n",
       "      <td>-0.075622</td>\n",
       "      <td>-0.863715</td>\n",
       "      <td>-1.345201</td>\n",
       "      <td>-0.072421</td>\n",
       "      <td>0.18751</td>\n",
       "      <td>0.191897</td>\n",
       "      <td>0.196529</td>\n",
       "      <td>-0.217599</td>\n",
       "      <td>4</td>\n",
       "    </tr>\n",
       "  </tbody>\n",
       "</table>\n",
       "<p>5 rows × 43 columns</p>\n",
       "</div>"
      ],
      "text/plain": [
       "               filename  class  lbl    mfcc_1    mfcc_2    mfcc_3    mfcc_4  \\\n",
       "0  blues/blues.00000.au  blues    1 -0.724054 -0.500629 -0.165197 -0.224717   \n",
       "1  blues/blues.00000.au  blues    1 -0.525030 -0.067544 -0.145980  0.647703   \n",
       "2  blues/blues.00000.au  blues    1 -0.590512 -0.206208 -0.388126  0.741486   \n",
       "3  blues/blues.00000.au  blues    1 -0.498473 -0.023238 -0.278193  0.395156   \n",
       "4  blues/blues.00000.au  blues    1 -0.456160 -0.403885 -0.030121  1.040700   \n",
       "\n",
       "     mfcc_5    mfcc_6    mfcc_7 ...    mfcc_31   mfcc_32   mfcc_33   mfcc_34  \\\n",
       "0  0.344881  0.522743 -1.350355 ...   0.028203 -0.075622 -0.863715 -1.345201   \n",
       "1  0.637306  0.695705 -0.702556 ...   0.028203 -0.075622 -0.863715 -1.345201   \n",
       "2  0.722044  0.497295 -0.975393 ...   0.028203 -0.075622 -0.863715 -1.345201   \n",
       "3 -0.000983  0.510387 -1.066385 ...   0.028203 -0.075622 -0.863715 -1.345201   \n",
       "4  0.450166  1.400972  0.105636 ...   0.028203 -0.075622 -0.863715 -1.345201   \n",
       "\n",
       "    mfcc_35  mfcc_36   mfcc_37   mfcc_38   mfcc_39  idx  \n",
       "0 -0.072421  0.18751  0.406762  0.196529 -0.217599    0  \n",
       "1 -0.072421  0.18751  0.268448  0.196529 -0.217599    1  \n",
       "2 -0.072421  0.18751  0.325000  0.196529 -0.217599    2  \n",
       "3 -0.072421  0.18751  0.239851  0.196529 -0.217599    3  \n",
       "4 -0.072421  0.18751  0.191897  0.196529 -0.217599    4  \n",
       "\n",
       "[5 rows x 43 columns]"
      ]
     },
     "execution_count": 22,
     "metadata": {},
     "output_type": "execute_result"
    }
   ],
   "source": [
    "train.head()"
   ]
  },
  {
   "cell_type": "code",
   "execution_count": 110,
   "metadata": {},
   "outputs": [
    {
     "data": {
      "text/html": [
       "<div>\n",
       "<style scoped>\n",
       "    .dataframe tbody tr th:only-of-type {\n",
       "        vertical-align: middle;\n",
       "    }\n",
       "\n",
       "    .dataframe tbody tr th {\n",
       "        vertical-align: top;\n",
       "    }\n",
       "\n",
       "    .dataframe thead th {\n",
       "        text-align: right;\n",
       "    }\n",
       "</style>\n",
       "<table border=\"1\" class=\"dataframe\">\n",
       "  <thead>\n",
       "    <tr style=\"text-align: right;\">\n",
       "      <th></th>\n",
       "      <th>0</th>\n",
       "    </tr>\n",
       "    <tr>\n",
       "      <th>class</th>\n",
       "      <th></th>\n",
       "    </tr>\n",
       "  </thead>\n",
       "  <tbody>\n",
       "    <tr>\n",
       "      <th>blues</th>\n",
       "      <td>160000</td>\n",
       "    </tr>\n",
       "    <tr>\n",
       "      <th>classical</th>\n",
       "      <td>160000</td>\n",
       "    </tr>\n",
       "    <tr>\n",
       "      <th>country</th>\n",
       "      <td>160000</td>\n",
       "    </tr>\n",
       "    <tr>\n",
       "      <th>disco</th>\n",
       "      <td>160000</td>\n",
       "    </tr>\n",
       "    <tr>\n",
       "      <th>hiphop</th>\n",
       "      <td>160000</td>\n",
       "    </tr>\n",
       "    <tr>\n",
       "      <th>jazz</th>\n",
       "      <td>160000</td>\n",
       "    </tr>\n",
       "    <tr>\n",
       "      <th>metal</th>\n",
       "      <td>160000</td>\n",
       "    </tr>\n",
       "    <tr>\n",
       "      <th>pop</th>\n",
       "      <td>160000</td>\n",
       "    </tr>\n",
       "    <tr>\n",
       "      <th>reggae</th>\n",
       "      <td>80000</td>\n",
       "    </tr>\n",
       "  </tbody>\n",
       "</table>\n",
       "</div>"
      ],
      "text/plain": [
       "                0\n",
       "class            \n",
       "blues      160000\n",
       "classical  160000\n",
       "country    160000\n",
       "disco      160000\n",
       "hiphop     160000\n",
       "jazz       160000\n",
       "metal      160000\n",
       "pop        160000\n",
       "reggae      80000"
      ]
     },
     "execution_count": 110,
     "metadata": {},
     "output_type": "execute_result"
    }
   ],
   "source": [
    "pd.DataFrame(train.groupby('class').size())"
   ]
  },
  {
   "cell_type": "code",
   "execution_count": 29,
   "metadata": {},
   "outputs": [],
   "source": [
    "classes = set( ['classical', 'jazz', 'metal'])"
   ]
  },
  {
   "cell_type": "code",
   "execution_count": 34,
   "metadata": {
    "scrolled": true
   },
   "outputs": [],
   "source": [
    "tmp_data = data[data['class'].map(lambda x: x in classes)]"
   ]
  },
  {
   "cell_type": "code",
   "execution_count": 111,
   "metadata": {},
   "outputs": [],
   "source": [
    "tmp_train = train[train['class'].map(lambda x: x in classes)]\n",
    "tmp_test = test[test['class'].map(lambda x: x in classes)]\n",
    "tmp_val = val[val['class'].map(lambda x: x in classes)]"
   ]
  },
  {
   "cell_type": "code",
   "execution_count": 114,
   "metadata": {},
   "outputs": [],
   "source": [
    "gmm = GaussianMixture(n_components=200, random_state=45, verbose=1)"
   ]
  },
  {
   "cell_type": "code",
   "execution_count": null,
   "metadata": {},
   "outputs": [
    {
     "name": "stdout",
     "output_type": "stream",
     "text": [
      "Initialization 0\n",
      "  Iteration 0\n",
      "  Iteration 10\n",
      "  Iteration 20\n"
     ]
    }
   ],
   "source": [
    "%%time\n",
    "gmm.fit(tmp_train[cols].as_matrix())"
   ]
  },
  {
   "cell_type": "code",
   "execution_count": 55,
   "metadata": {},
   "outputs": [],
   "source": [
    "pred_train = gmm.predict_proba(tmp_train[cols].as_matrix())"
   ]
  },
  {
   "cell_type": "code",
   "execution_count": 56,
   "metadata": {},
   "outputs": [],
   "source": [
    "pred_val = gmm.predict_proba(tmp_val[cols].as_matrix())"
   ]
  },
  {
   "cell_type": "code",
   "execution_count": 65,
   "metadata": {},
   "outputs": [],
   "source": [
    "mn = gmm.means_"
   ]
  },
  {
   "cell_type": "code",
   "execution_count": null,
   "metadata": {},
   "outputs": [],
   "source": [
    "... цикл по трекам...\n",
    "M = []\n",
    "for i in range(train.shape[0] // 2000):\n",
    "    tmp = (pred_train[i*2000:(i+1)*2000, :, None]\n",
    "           * tmp_train[cols].as_matrix()[i*2000:(i+1)*2000, None, :]\n",
    "          ).sum(axis=0)\n",
    "    tmp = tmp / pred_train[i*2000:(i+1)*2000].sum(axis=0)[:, None]\n",
    "    M.append(tmp.reshape(1, -1))"
   ]
  },
  {
   "cell_type": "code",
   "execution_count": 64,
   "metadata": {},
   "outputs": [],
   "source": [
    "M = np.vstack(M)"
   ]
  },
  {
   "cell_type": "code",
   "execution_count": 75,
   "metadata": {},
   "outputs": [],
   "source": [
    "from sklearn.decomposition import FactorAnalysis"
   ]
  },
  {
   "cell_type": "code",
   "execution_count": 101,
   "metadata": {
    "scrolled": true
   },
   "outputs": [],
   "source": [
    "fa = FactorAnalysis(n_components=400)"
   ]
  },
  {
   "cell_type": "code",
   "execution_count": 97,
   "metadata": {},
   "outputs": [
    {
     "name": "stdout",
     "output_type": "stream",
     "text": [
      "Wall time: 119 ms\n"
     ]
    },
    {
     "data": {
      "text/plain": [
       "FactorAnalysis(copy=True, iterated_power=3, max_iter=1000, n_components=400,\n",
       "        noise_variance_init=None, random_state=0, svd_method='randomized',\n",
       "        tol=0.01)"
      ]
     },
     "execution_count": 97,
     "metadata": {},
     "output_type": "execute_result"
    }
   ],
   "source": [
    "%%%time\n",
    "fa.fit(M)"
   ]
  },
  {
   "cell_type": "code",
   "execution_count": 98,
   "metadata": {},
   "outputs": [],
   "source": [
    "m0 = fa.fit_transform(M.T)"
   ]
  },
  {
   "cell_type": "code",
   "execution_count": 100,
   "metadata": {},
   "outputs": [
    {
     "data": {
      "text/plain": [
       "(39, 500)"
      ]
     },
     "execution_count": 100,
     "metadata": {},
     "output_type": "execute_result"
    }
   ],
   "source": [
    "M.T.shape"
   ]
  }
 ],
 "metadata": {
  "kernelspec": {
   "display_name": "Python 3",
   "language": "python",
   "name": "python3"
  },
  "language_info": {
   "codemirror_mode": {
    "name": "ipython",
    "version": 3
   },
   "file_extension": ".py",
   "mimetype": "text/x-python",
   "name": "python",
   "nbconvert_exporter": "python",
   "pygments_lexer": "ipython3",
   "version": "3.6.4"
  }
 },
 "nbformat": 4,
 "nbformat_minor": 2
}
