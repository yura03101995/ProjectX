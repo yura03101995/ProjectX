{
 "cells": [
  {
   "cell_type": "code",
   "execution_count": 47,
   "metadata": {},
   "outputs": [],
   "source": [
    "import warnings\n",
    "import os\n",
    "from IPython.display import Audio, display\n",
    "import numpy as np\n",
    "import pandas as pd\n",
    "import matplotlib.pyplot as plt\n",
    "import sklearn\n",
    "from sklearn.model_selection import train_test_split\n",
    "from sklearn.mixture import GaussianMixture\n",
    "from sklearn.decomposition import FactorAnalysis\n",
    "from sklearn import preprocessing\n",
    "from scipy.stats import norm\n",
    "warnings.simplefilter('ignore')\n",
    "%matplotlib inline"
   ]
  },
  {
   "cell_type": "code",
   "execution_count": 4,
   "metadata": {},
   "outputs": [],
   "source": [
    "train_fl = pd.read_csv('./train_files.csv', header=None)\n",
    "test_fl = pd.read_csv('./test_files.csv', header=None)\n",
    "valid_fl = pd.read_csv('./val_files.csv', header=None)"
   ]
  },
  {
   "cell_type": "code",
   "execution_count": 5,
   "metadata": {},
   "outputs": [],
   "source": [
    "data = pd.read_csv('./data/list_mfccs.csv')"
   ]
  },
  {
   "cell_type": "code",
   "execution_count": 8,
   "metadata": {},
   "outputs": [],
   "source": [
    "cols = ['mfcc_%s'%i for i in range(1, 40)]\n",
    "scaler = preprocessing.StandardScaler()\n",
    "scaled_df = scaler.fit_transform(data[cols])\n"
   ]
  },
  {
   "cell_type": "code",
   "execution_count": 9,
   "metadata": {},
   "outputs": [],
   "source": [
    "data_scaled = data.copy()\n",
    "data_scaled[cols] = pd.DataFrame(scaled_df)"
   ]
  },
  {
   "cell_type": "code",
   "execution_count": 10,
   "metadata": {},
   "outputs": [],
   "source": [
    "train = data_scaled[data.filename.map(lambda x: x in set(train_fl[1]))]\n",
    "test = data_scaled[data.filename.map(lambda x: x in set(test_fl[1]))]\n",
    "val = data_scaled[data.filename.map(lambda x: x in set(valid_fl[1]))]"
   ]
  },
  {
   "cell_type": "code",
   "execution_count": 48,
   "metadata": {},
   "outputs": [],
   "source": [
    "train['idx'] = list(train.index)\n",
    "test['idx'] = list(test.index)\n",
    "val['idx'] = list(val.index)"
   ]
  },
  {
   "cell_type": "code",
   "execution_count": 22,
   "metadata": {
    "scrolled": true
   },
   "outputs": [
    {
     "data": {
      "text/html": [
       "<div>\n",
       "<style scoped>\n",
       "    .dataframe tbody tr th:only-of-type {\n",
       "        vertical-align: middle;\n",
       "    }\n",
       "\n",
       "    .dataframe tbody tr th {\n",
       "        vertical-align: top;\n",
       "    }\n",
       "\n",
       "    .dataframe thead th {\n",
       "        text-align: right;\n",
       "    }\n",
       "</style>\n",
       "<table border=\"1\" class=\"dataframe\">\n",
       "  <thead>\n",
       "    <tr style=\"text-align: right;\">\n",
       "      <th></th>\n",
       "      <th>filename</th>\n",
       "      <th>class</th>\n",
       "      <th>lbl</th>\n",
       "      <th>mfcc_1</th>\n",
       "      <th>mfcc_2</th>\n",
       "      <th>mfcc_3</th>\n",
       "      <th>mfcc_4</th>\n",
       "      <th>mfcc_5</th>\n",
       "      <th>mfcc_6</th>\n",
       "      <th>mfcc_7</th>\n",
       "      <th>...</th>\n",
       "      <th>mfcc_31</th>\n",
       "      <th>mfcc_32</th>\n",
       "      <th>mfcc_33</th>\n",
       "      <th>mfcc_34</th>\n",
       "      <th>mfcc_35</th>\n",
       "      <th>mfcc_36</th>\n",
       "      <th>mfcc_37</th>\n",
       "      <th>mfcc_38</th>\n",
       "      <th>mfcc_39</th>\n",
       "      <th>idx</th>\n",
       "    </tr>\n",
       "  </thead>\n",
       "  <tbody>\n",
       "    <tr>\n",
       "      <th>0</th>\n",
       "      <td>blues/blues.00000.au</td>\n",
       "      <td>blues</td>\n",
       "      <td>1</td>\n",
       "      <td>-0.724054</td>\n",
       "      <td>-0.500629</td>\n",
       "      <td>-0.165197</td>\n",
       "      <td>-0.224717</td>\n",
       "      <td>0.344881</td>\n",
       "      <td>0.522743</td>\n",
       "      <td>-1.350355</td>\n",
       "      <td>...</td>\n",
       "      <td>0.028203</td>\n",
       "      <td>-0.075622</td>\n",
       "      <td>-0.863715</td>\n",
       "      <td>-1.345201</td>\n",
       "      <td>-0.072421</td>\n",
       "      <td>0.18751</td>\n",
       "      <td>0.406762</td>\n",
       "      <td>0.196529</td>\n",
       "      <td>-0.217599</td>\n",
       "      <td>0</td>\n",
       "    </tr>\n",
       "    <tr>\n",
       "      <th>1</th>\n",
       "      <td>blues/blues.00000.au</td>\n",
       "      <td>blues</td>\n",
       "      <td>1</td>\n",
       "      <td>-0.525030</td>\n",
       "      <td>-0.067544</td>\n",
       "      <td>-0.145980</td>\n",
       "      <td>0.647703</td>\n",
       "      <td>0.637306</td>\n",
       "      <td>0.695705</td>\n",
       "      <td>-0.702556</td>\n",
       "      <td>...</td>\n",
       "      <td>0.028203</td>\n",
       "      <td>-0.075622</td>\n",
       "      <td>-0.863715</td>\n",
       "      <td>-1.345201</td>\n",
       "      <td>-0.072421</td>\n",
       "      <td>0.18751</td>\n",
       "      <td>0.268448</td>\n",
       "      <td>0.196529</td>\n",
       "      <td>-0.217599</td>\n",
       "      <td>1</td>\n",
       "    </tr>\n",
       "    <tr>\n",
       "      <th>2</th>\n",
       "      <td>blues/blues.00000.au</td>\n",
       "      <td>blues</td>\n",
       "      <td>1</td>\n",
       "      <td>-0.590512</td>\n",
       "      <td>-0.206208</td>\n",
       "      <td>-0.388126</td>\n",
       "      <td>0.741486</td>\n",
       "      <td>0.722044</td>\n",
       "      <td>0.497295</td>\n",
       "      <td>-0.975393</td>\n",
       "      <td>...</td>\n",
       "      <td>0.028203</td>\n",
       "      <td>-0.075622</td>\n",
       "      <td>-0.863715</td>\n",
       "      <td>-1.345201</td>\n",
       "      <td>-0.072421</td>\n",
       "      <td>0.18751</td>\n",
       "      <td>0.325000</td>\n",
       "      <td>0.196529</td>\n",
       "      <td>-0.217599</td>\n",
       "      <td>2</td>\n",
       "    </tr>\n",
       "    <tr>\n",
       "      <th>3</th>\n",
       "      <td>blues/blues.00000.au</td>\n",
       "      <td>blues</td>\n",
       "      <td>1</td>\n",
       "      <td>-0.498473</td>\n",
       "      <td>-0.023238</td>\n",
       "      <td>-0.278193</td>\n",
       "      <td>0.395156</td>\n",
       "      <td>-0.000983</td>\n",
       "      <td>0.510387</td>\n",
       "      <td>-1.066385</td>\n",
       "      <td>...</td>\n",
       "      <td>0.028203</td>\n",
       "      <td>-0.075622</td>\n",
       "      <td>-0.863715</td>\n",
       "      <td>-1.345201</td>\n",
       "      <td>-0.072421</td>\n",
       "      <td>0.18751</td>\n",
       "      <td>0.239851</td>\n",
       "      <td>0.196529</td>\n",
       "      <td>-0.217599</td>\n",
       "      <td>3</td>\n",
       "    </tr>\n",
       "    <tr>\n",
       "      <th>4</th>\n",
       "      <td>blues/blues.00000.au</td>\n",
       "      <td>blues</td>\n",
       "      <td>1</td>\n",
       "      <td>-0.456160</td>\n",
       "      <td>-0.403885</td>\n",
       "      <td>-0.030121</td>\n",
       "      <td>1.040700</td>\n",
       "      <td>0.450166</td>\n",
       "      <td>1.400972</td>\n",
       "      <td>0.105636</td>\n",
       "      <td>...</td>\n",
       "      <td>0.028203</td>\n",
       "      <td>-0.075622</td>\n",
       "      <td>-0.863715</td>\n",
       "      <td>-1.345201</td>\n",
       "      <td>-0.072421</td>\n",
       "      <td>0.18751</td>\n",
       "      <td>0.191897</td>\n",
       "      <td>0.196529</td>\n",
       "      <td>-0.217599</td>\n",
       "      <td>4</td>\n",
       "    </tr>\n",
       "  </tbody>\n",
       "</table>\n",
       "<p>5 rows × 43 columns</p>\n",
       "</div>"
      ],
      "text/plain": [
       "               filename  class  lbl    mfcc_1    mfcc_2    mfcc_3    mfcc_4  \\\n",
       "0  blues/blues.00000.au  blues    1 -0.724054 -0.500629 -0.165197 -0.224717   \n",
       "1  blues/blues.00000.au  blues    1 -0.525030 -0.067544 -0.145980  0.647703   \n",
       "2  blues/blues.00000.au  blues    1 -0.590512 -0.206208 -0.388126  0.741486   \n",
       "3  blues/blues.00000.au  blues    1 -0.498473 -0.023238 -0.278193  0.395156   \n",
       "4  blues/blues.00000.au  blues    1 -0.456160 -0.403885 -0.030121  1.040700   \n",
       "\n",
       "     mfcc_5    mfcc_6    mfcc_7 ...    mfcc_31   mfcc_32   mfcc_33   mfcc_34  \\\n",
       "0  0.344881  0.522743 -1.350355 ...   0.028203 -0.075622 -0.863715 -1.345201   \n",
       "1  0.637306  0.695705 -0.702556 ...   0.028203 -0.075622 -0.863715 -1.345201   \n",
       "2  0.722044  0.497295 -0.975393 ...   0.028203 -0.075622 -0.863715 -1.345201   \n",
       "3 -0.000983  0.510387 -1.066385 ...   0.028203 -0.075622 -0.863715 -1.345201   \n",
       "4  0.450166  1.400972  0.105636 ...   0.028203 -0.075622 -0.863715 -1.345201   \n",
       "\n",
       "    mfcc_35  mfcc_36   mfcc_37   mfcc_38   mfcc_39  idx  \n",
       "0 -0.072421  0.18751  0.406762  0.196529 -0.217599    0  \n",
       "1 -0.072421  0.18751  0.268448  0.196529 -0.217599    1  \n",
       "2 -0.072421  0.18751  0.325000  0.196529 -0.217599    2  \n",
       "3 -0.072421  0.18751  0.239851  0.196529 -0.217599    3  \n",
       "4 -0.072421  0.18751  0.191897  0.196529 -0.217599    4  \n",
       "\n",
       "[5 rows x 43 columns]"
      ]
     },
     "execution_count": 22,
     "metadata": {},
     "output_type": "execute_result"
    }
   ],
   "source": [
    "train.head()"
   ]
  },
  {
   "cell_type": "code",
   "execution_count": 29,
   "metadata": {},
   "outputs": [],
   "source": [
    "classes = set( ['classical', 'jazz', 'metal'])"
   ]
  },
  {
   "cell_type": "code",
   "execution_count": 34,
   "metadata": {
    "scrolled": true
   },
   "outputs": [],
   "source": [
    "tmp_data = data[data['class'].map(lambda x: x in classes)]"
   ]
  },
  {
   "cell_type": "code",
   "execution_count": 111,
   "metadata": {},
   "outputs": [],
   "source": [
    "tmp_train = train[train['class'] is in classes]\n",
    "tmp_test = test[test['class']is in classes]\n",
    "tmp_val = val[val['class']is in classes]"
   ]
  },
  {
   "cell_type": "code",
   "execution_count": 114,
   "metadata": {},
   "outputs": [],
   "source": [
    "gmm = GaussianMixture(n_components=200, random_state=45, verbose=1)"
   ]
  },
  {
   "cell_type": "code",
   "execution_count": 115,
   "metadata": {},
   "outputs": [
    {
     "name": "stdout",
     "output_type": "stream",
     "text": [
      "Initialization 0\n",
      "  Iteration 0\n",
      "  Iteration 10\n",
      "  Iteration 20\n",
      "  Iteration 30\n",
      "  Iteration 40\n",
      "  Iteration 50\n",
      "  Iteration 60\n",
      "  Iteration 70\n",
      "Initialization converged: True\n",
      "Wall time: 3h 38min 44s\n"
     ]
    },
    {
     "data": {
      "text/plain": [
       "GaussianMixture(covariance_type='full', init_params='kmeans', max_iter=100,\n",
       "        means_init=None, n_components=200, n_init=1, precisions_init=None,\n",
       "        random_state=45, reg_covar=1e-06, tol=0.001, verbose=1,\n",
       "        verbose_interval=10, warm_start=False, weights_init=None)"
      ]
     },
     "execution_count": 115,
     "metadata": {},
     "output_type": "execute_result"
    }
   ],
   "source": [
    "%%time\n",
    "gmm.fit(tmp_train[cols].as_matrix())"
   ]
  },
  {
   "cell_type": "code",
   "execution_count": 116,
   "metadata": {},
   "outputs": [],
   "source": [
    "pred_train = gmm.predict_proba(tmp_train[cols].as_matrix())"
   ]
  },
  {
   "cell_type": "code",
   "execution_count": 117,
   "metadata": {},
   "outputs": [],
   "source": [
    "pred_test = gmm.predict_proba(tmp_test[cols].as_matrix())\n",
    "pred_val = gmm.predict_proba(tmp_val[cols].as_matrix())"
   ]
  },
  {
   "cell_type": "code",
   "execution_count": 228,
   "metadata": {},
   "outputs": [],
   "source": [
    "mn = gmm.means_.reshape(1, -1)\n",
    "eps = 1e-30"
   ]
  },
  {
   "cell_type": "code",
   "execution_count": 150,
   "metadata": {},
   "outputs": [],
   "source": [
    "#... цикл по трекам для train...\n",
    "M = []\n",
    "for i in range(tmp_train.shape[0] // 2000):\n",
    "    eps\n",
    "    tmp = (pred_train[i*2000:(i+1)*2000, :, None]\n",
    "           * tmp_train[cols].as_matrix()[i*2000:(i+1)*2000, None, :]\n",
    "          ).sum(axis=0) + eps\n",
    "    tmp = tmp / (pred_train[i*2000:(i+1)*2000].sum(axis=0)[:, None] + eps*200)\n",
    "    M.append(tmp.reshape(1, -1))"
   ]
  },
  {
   "cell_type": "code",
   "execution_count": 151,
   "metadata": {},
   "outputs": [],
   "source": [
    "#... цикл по трекам...\n",
    "M_test = []\n",
    "for i in range(tmp_test.shape[0] // 2000):\n",
    "\n",
    "    tmp = (pred_test[i*2000:(i+1)*2000, :, None]\n",
    "           * tmp_test[cols].as_matrix()[i*2000:(i+1)*2000, None, :]\n",
    "          ).sum(axis=0) + eps\n",
    "    s = pred_test[i*2000:(i+1)*2000].sum(axis=0)[:, None] + eps * 200\n",
    "    tmp = tmp / s\n",
    "    \n",
    "        \n",
    "    M_test.append(tmp.reshape(1, -1))"
   ]
  },
  {
   "cell_type": "code",
   "execution_count": 152,
   "metadata": {},
   "outputs": [],
   "source": [
    "#... цикл по трекам для валидации...\n",
    "M_val = []\n",
    "for i in range(tmp_val.shape[0] // 2000):\n",
    "    tmp = (pred_val[i*2000:(i+1)*2000, :, None]\n",
    "           * tmp_val[cols].as_matrix()[i*2000:(i+1)*2000, None, :]\n",
    "          ).sum(axis=0) + eps\n",
    "    tmp = tmp / (pred_val[i*2000:(i+1)*2000].sum(axis=0)[:, None] + eps*200)\n",
    "    M_val.append(tmp.reshape(1, -1))"
   ]
  },
  {
   "cell_type": "code",
   "execution_count": 153,
   "metadata": {},
   "outputs": [],
   "source": [
    "M = np.vstack(M)\n",
    "M_test = np.vstack(M_test)\n",
    "M_val = np.vstack(M_val)"
   ]
  },
  {
   "cell_type": "code",
   "execution_count": 197,
   "metadata": {},
   "outputs": [],
   "source": [
    "labels = [tmp_train['lbl'].iloc[i*2000] for i in range(tmp_train.shape[0]// 2000)]\n",
    "labels_test = [tmp_test['lbl'].iloc[i*2000] for i in range(tmp_test.shape[0]// 2000)]\n",
    "labels_val = [tmp_val['lbl'].iloc[i*2000] for i in range(tmp_val.shape[0]// 2000)]"
   ]
  },
  {
   "cell_type": "markdown",
   "metadata": {},
   "source": [
    "### Эксперименты"
   ]
  },
  {
   "cell_type": "code",
   "execution_count": 187,
   "metadata": {},
   "outputs": [],
   "source": [
    "from sklearn.multiclass import OneVsOneClassifier\n",
    "from sklearn.linear_model import SGDClassifier"
   ]
  },
  {
   "cell_type": "markdown",
   "metadata": {},
   "source": [
    "### №1"
   ]
  },
  {
   "cell_type": "code",
   "execution_count": 154,
   "metadata": {
    "scrolled": true
   },
   "outputs": [],
   "source": [
    "fa = FactorAnalysis(n_components=400)"
   ]
  },
  {
   "cell_type": "code",
   "execution_count": 179,
   "metadata": {},
   "outputs": [
    {
     "name": "stdout",
     "output_type": "stream",
     "text": [
      "Wall time: 5.96 s\n"
     ]
    },
    {
     "data": {
      "text/plain": [
       "FactorAnalysis(copy=True, iterated_power=3, max_iter=1000, n_components=400,\n",
       "        noise_variance_init=None, random_state=0, svd_method='randomized',\n",
       "        tol=0.01)"
      ]
     },
     "execution_count": 179,
     "metadata": {},
     "output_type": "execute_result"
    }
   ],
   "source": [
    "%%%time\n",
    "fa.fit(M)"
   ]
  },
  {
   "cell_type": "code",
   "execution_count": 182,
   "metadata": {},
   "outputs": [],
   "source": [
    "t = fa.get_covariance()[:400]"
   ]
  },
  {
   "cell_type": "code",
   "execution_count": 183,
   "metadata": {},
   "outputs": [],
   "source": [
    "w = np.linalg.inv(t.dot(t.T)).dot(t.dot((M - mn).T))"
   ]
  },
  {
   "cell_type": "code",
   "execution_count": 184,
   "metadata": {},
   "outputs": [],
   "source": [
    "w_test = np.linalg.inv(t.dot(t.T)).dot(t.dot((M_test - mn).T))\n",
    "w_val = np.linalg.inv(t.dot(t.T)).dot(t.dot((M_val - mn).T))"
   ]
  },
  {
   "cell_type": "code",
   "execution_count": 189,
   "metadata": {},
   "outputs": [],
   "source": [
    "sgd_clf = SGDClassifier(max_iter=100, loss='log', penalty='elasticnet')"
   ]
  },
  {
   "cell_type": "code",
   "execution_count": 201,
   "metadata": {},
   "outputs": [
    {
     "name": "stdout",
     "output_type": "stream",
     "text": [
      "Wall time: 0 ns\n"
     ]
    }
   ],
   "source": [
    "%time\n",
    "model = OneVsOneClassifier(sgd_clf).fit(w.T, labels)"
   ]
  },
  {
   "cell_type": "code",
   "execution_count": 204,
   "metadata": {},
   "outputs": [
    {
     "data": {
      "text/plain": [
       "array([2, 6, 2, 2, 6, 2, 2, 2, 2, 2, 6, 6, 6, 6, 6, 2, 6, 6, 2, 6, 6, 7,\n",
       "       7, 7, 7, 7, 7, 7, 7, 7], dtype=int64)"
      ]
     },
     "execution_count": 204,
     "metadata": {},
     "output_type": "execute_result"
    }
   ],
   "source": [
    "model.predict(w_test.T)"
   ]
  },
  {
   "cell_type": "code",
   "execution_count": 208,
   "metadata": {},
   "outputs": [
    {
     "data": {
      "text/plain": [
       "0.8333333333333334"
      ]
     },
     "execution_count": 208,
     "metadata": {},
     "output_type": "execute_result"
    }
   ],
   "source": [
    "model.score(w_test.T, labels_test)"
   ]
  },
  {
   "cell_type": "markdown",
   "metadata": {},
   "source": [
    "### №2"
   ]
  },
  {
   "cell_type": "code",
   "execution_count": 222,
   "metadata": {
    "scrolled": true
   },
   "outputs": [],
   "source": [
    "fa = FactorAnalysis(n_components=800)"
   ]
  },
  {
   "cell_type": "code",
   "execution_count": 223,
   "metadata": {},
   "outputs": [
    {
     "name": "stdout",
     "output_type": "stream",
     "text": [
      "Wall time: 8.32 s\n"
     ]
    },
    {
     "data": {
      "text/plain": [
       "FactorAnalysis(copy=True, iterated_power=3, max_iter=1000, n_components=800,\n",
       "        noise_variance_init=None, random_state=0, svd_method='randomized',\n",
       "        tol=0.01)"
      ]
     },
     "execution_count": 223,
     "metadata": {},
     "output_type": "execute_result"
    }
   ],
   "source": [
    "%%%time\n",
    "fa.fit(M)"
   ]
  },
  {
   "cell_type": "code",
   "execution_count": 224,
   "metadata": {},
   "outputs": [],
   "source": [
    "t = fa.get_covariance()[:800]"
   ]
  },
  {
   "cell_type": "code",
   "execution_count": 229,
   "metadata": {},
   "outputs": [],
   "source": [
    "w2 = np.linalg.inv(t.dot(t.T)).dot(t.dot((M - mn).T))"
   ]
  },
  {
   "cell_type": "code",
   "execution_count": 230,
   "metadata": {},
   "outputs": [],
   "source": [
    "w_test2 = np.linalg.inv(t.dot(t.T)).dot(t.dot((M_test - mn).T))\n",
    "w_val2 = np.linalg.inv(t.dot(t.T)).dot(t.dot((M_val - mn).T))"
   ]
  },
  {
   "cell_type": "code",
   "execution_count": 231,
   "metadata": {},
   "outputs": [],
   "source": [
    "sgd_clf = SGDClassifier(max_iter=100, loss='log', penalty='elasticnet')"
   ]
  },
  {
   "cell_type": "code",
   "execution_count": 232,
   "metadata": {},
   "outputs": [
    {
     "name": "stdout",
     "output_type": "stream",
     "text": [
      "Wall time: 0 ns\n"
     ]
    }
   ],
   "source": [
    "%time\n",
    "model = OneVsOneClassifier(sgd_clf).fit(w2.T, labels)"
   ]
  },
  {
   "cell_type": "code",
   "execution_count": 233,
   "metadata": {},
   "outputs": [
    {
     "data": {
      "text/plain": [
       "array([2, 2, 2, 2, 2, 6, 2, 2, 2, 2, 6, 6, 6, 6, 6, 6, 6, 6, 6, 6, 7, 7,\n",
       "       7, 7, 7, 7, 7, 7, 7, 7], dtype=int64)"
      ]
     },
     "execution_count": 233,
     "metadata": {},
     "output_type": "execute_result"
    }
   ],
   "source": [
    "model.predict(w_test2.T)"
   ]
  },
  {
   "cell_type": "code",
   "execution_count": 235,
   "metadata": {},
   "outputs": [
    {
     "data": {
      "text/plain": [
       "0.9666666666666667"
      ]
     },
     "execution_count": 235,
     "metadata": {},
     "output_type": "execute_result"
    }
   ],
   "source": [
    "model.score(w_test2.T, labels_test)"
   ]
  },
  {
   "cell_type": "markdown",
   "metadata": {},
   "source": [
    "### №3"
   ]
  },
  {
   "cell_type": "code",
   "execution_count": 243,
   "metadata": {},
   "outputs": [
    {
     "name": "stdout",
     "output_type": "stream",
     "text": [
      "[0.79816789 0.20183211]\n"
     ]
    }
   ],
   "source": [
    "from sklearn.discriminant_analysis import LinearDiscriminantAnalysis\n",
    "\n",
    "lda = LinearDiscriminantAnalysis(n_components=200)\n",
    "X_lda = lda.fit(w2.T, labels).transform(w2.T)\n",
    "\n",
    "print(lda.explained_variance_ratio_)\n",
    "\n",
    "'''for i in range(tmp_test.shape[0] // 2000):\n",
    "    X_t.append(get_w(w, i))\n",
    "    y_t.append(tmp_test['lbl'][i * 2000])\n",
    "'''\n",
    "x_lda_test = lda.transform(w_test2.T)"
   ]
  },
  {
   "cell_type": "code",
   "execution_count": 244,
   "metadata": {},
   "outputs": [],
   "source": [
    "sgd_clf2 = SGDClassifier(max_iter=100, loss='log', penalty='elasticnet')"
   ]
  },
  {
   "cell_type": "code",
   "execution_count": 245,
   "metadata": {},
   "outputs": [
    {
     "name": "stdout",
     "output_type": "stream",
     "text": [
      "Wall time: 0 ns\n"
     ]
    }
   ],
   "source": [
    "%time\n",
    "model2 = OneVsOneClassifier(sgd_clf2).fit(X_lda, labels)"
   ]
  },
  {
   "cell_type": "code",
   "execution_count": 248,
   "metadata": {},
   "outputs": [
    {
     "data": {
      "text/plain": [
       "array([6, 2, 6, 2, 7, 2, 6, 2, 2, 2, 6, 2, 6, 6, 6, 6, 6, 2, 6, 6, 2, 6,\n",
       "       7, 7, 7, 7, 2, 7, 7, 2], dtype=int64)"
      ]
     },
     "execution_count": 248,
     "metadata": {},
     "output_type": "execute_result"
    }
   ],
   "source": [
    "model2.predict(x_lda_test)"
   ]
  },
  {
   "cell_type": "code",
   "execution_count": 249,
   "metadata": {},
   "outputs": [
    {
     "data": {
      "text/plain": [
       "0.6666666666666666"
      ]
     },
     "execution_count": 249,
     "metadata": {},
     "output_type": "execute_result"
    }
   ],
   "source": [
    "model2.score(x_lda_test, labels_test)"
   ]
  }
 ],
 "metadata": {
  "kernelspec": {
   "display_name": "Python 3",
   "language": "python",
   "name": "python3"
  },
  "language_info": {
   "codemirror_mode": {
    "name": "ipython",
    "version": 3
   },
   "file_extension": ".py",
   "mimetype": "text/x-python",
   "name": "python",
   "nbconvert_exporter": "python",
   "pygments_lexer": "ipython3",
   "version": "3.6.4"
  }
 },
 "nbformat": 4,
 "nbformat_minor": 2
}
