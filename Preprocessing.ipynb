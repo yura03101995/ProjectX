{
 "cells": [
  {
   "cell_type": "code",
   "execution_count": 1,
   "metadata": {},
   "outputs": [],
   "source": [
    "import warnings\n",
    "import os\n",
    "from IPython.display import Audio, display\n",
    "import numpy as np\n",
    "import librosa\n",
    "from librosa.display import specshow\n",
    "import pandas as pd\n",
    "import matplotlib.pyplot as plt\n",
    "from scipy.fftpack import fft, dct, ifft\n",
    "from sklearn.model_selection import train_test_split\n",
    "from scipy.stats import norm\n",
    "warnings.simplefilter('error')\n",
    "%matplotlib inline"
   ]
  },
  {
   "cell_type": "code",
   "execution_count": 21,
   "metadata": {},
   "outputs": [],
   "source": [
    "DATA_PATH = os.path.join('data', 'genres')\n",
    "\n",
    "files = []\n",
    "for root, directories, filenames in os.walk(DATA_PATH):\n",
    "    for filename in filenames:\n",
    "        files.append(os.path.join(DATA_PATH, os.path.basename(root), filename))"
   ]
  },
  {
   "cell_type": "code",
   "execution_count": 29,
   "metadata": {},
   "outputs": [
    {
     "name": "stdout",
     "output_type": "stream",
     "text": [
      "Progress : 851 / 851\r"
     ]
    }
   ],
   "source": [
    "SAMPLE_RATE = 22050\n",
    "waves = {}\n",
    "for i, file in enumerate(files):\n",
    "    print(\"Progress : %d / %d\" % (i + 1, len(files)), end='\\r')\n",
    "    try:\n",
    "        waves[file] = librosa.load(file, sr=SAMPLE_RATE)[0]\n",
    "    except:\n",
    "        continue"
   ]
  },
  {
   "cell_type": "code",
   "execution_count": 38,
   "metadata": {},
   "outputs": [
    {
     "data": {
      "text/plain": [
       "32"
      ]
     },
     "execution_count": 38,
     "metadata": {},
     "output_type": "execute_result"
    }
   ],
   "source": [
    "lens = set()\n",
    "for v in waves.values():\n",
    "    lens.add(len(v))\n",
    "len(lens)"
   ]
  },
  {
   "cell_type": "code",
   "execution_count": 39,
   "metadata": {},
   "outputs": [
    {
     "data": {
      "text/plain": [
       "15808"
      ]
     },
     "execution_count": 39,
     "metadata": {},
     "output_type": "execute_result"
    }
   ],
   "source": [
    "max(lens) - min(lens)"
   ]
  },
  {
   "cell_type": "code",
   "execution_count": 41,
   "metadata": {},
   "outputs": [],
   "source": [
    "COMMON_LEN = min(lens) \n",
    "for f, wave in waves.items():\n",
    "    waves[f] = wave[:COMMON_LEN]"
   ]
  },
  {
   "cell_type": "code",
   "execution_count": 53,
   "metadata": {},
   "outputs": [
    {
     "data": {
      "text/plain": [
       "660000"
      ]
     },
     "execution_count": 53,
     "metadata": {},
     "output_type": "execute_result"
    }
   ],
   "source": [
    "COMMON_LEN"
   ]
  },
  {
   "cell_type": "code",
   "execution_count": 42,
   "metadata": {},
   "outputs": [
    {
     "name": "stdout",
     "output_type": "stream",
     "text": [
      "SUCCESS\n"
     ]
    }
   ],
   "source": [
    "## check lens\n",
    "for wave in waves.values():\n",
    "    if len(wave) != COMMON_LEN:\n",
    "        print(\"FAILED!!!\")\n",
    "        break\n",
    "else:\n",
    "    print(\"SUCCESS\")"
   ]
  },
  {
   "cell_type": "code",
   "execution_count": 43,
   "metadata": {},
   "outputs": [
    {
     "data": {
      "text/plain": [
       "850"
      ]
     },
     "execution_count": 43,
     "metadata": {},
     "output_type": "execute_result"
    }
   ],
   "source": [
    "len(waves)"
   ]
  },
  {
   "cell_type": "code",
   "execution_count": 54,
   "metadata": {},
   "outputs": [],
   "source": [
    "MFCC_COEFS = 12\n",
    "MEL_COEFS = 128\n",
    "def mfcc_extractor(sound):\n",
    "    train_mfcc = librosa.feature.mfcc(sound, sr=SAMPLE_RATE, n_mfcc=MFCC_COEFS, \n",
    "                                      n_mels=MEL_COEFS, n_fft=441, hop_length=330)\n",
    "    grad = librosa.feature.delta(train_mfcc)\n",
    "    gess = librosa.feature.delta(train_mfcc, order=2)\n",
    "    en = np.sum(train_mfcc ** 2, axis=0)\n",
    "    en1 = np.sum(grad ** 2, axis=0)\n",
    "    en2 = np.sum(gess ** 2, axis=0)\n",
    "    return np.vstack([train_mfcc, grad, gess,\n",
    "                            en.reshape(1, -1), en1.reshape(1, -1), en2.reshape(1, -1)])"
   ]
  },
  {
   "cell_type": "code",
   "execution_count": 55,
   "metadata": {},
   "outputs": [
    {
     "name": "stdout",
     "output_type": "stream",
     "text": [
      "Progress: 850 / 850\r"
     ]
    },
    {
     "data": {
      "text/plain": [
       "850"
      ]
     },
     "execution_count": 55,
     "metadata": {},
     "output_type": "execute_result"
    }
   ],
   "source": [
    "mfccs = {}\n",
    "for i, (f, wave) in enumerate(waves.items()):\n",
    "    print(\"Progress: %d / %d\" % (i + 1, len(waves)), end='\\r')\n",
    "    try:\n",
    "        mfccs[f] = mfcc_extractor(wave)\n",
    "    except:\n",
    "        continue\n",
    "len(mfccs)"
   ]
  },
  {
   "cell_type": "code",
   "execution_count": 58,
   "metadata": {},
   "outputs": [
    {
     "name": "stdout",
     "output_type": "stream",
     "text": [
      "SUCCESS\n"
     ]
    }
   ],
   "source": [
    "MFCC_SHAPE = (39, 2000)\n",
    "for mfcc in mfccs.values():\n",
    "    if mfcc.shape != MFCC_SHAPE:\n",
    "        print(\"FAILED\")\n",
    "else:\n",
    "    print(\"SUCCESS\")"
   ]
  },
  {
   "cell_type": "code",
   "execution_count": 60,
   "metadata": {},
   "outputs": [
    {
     "data": {
      "text/plain": [
       "['blues',\n",
       " 'classical',\n",
       " 'country',\n",
       " 'disco',\n",
       " 'hiphop',\n",
       " 'jazz',\n",
       " 'metal',\n",
       " 'pop',\n",
       " 'reggae']"
      ]
     },
     "execution_count": 60,
     "metadata": {},
     "output_type": "execute_result"
    }
   ],
   "source": [
    "cls = os.listdir(DATA_PATH)\n",
    "cls"
   ]
  },
  {
   "cell_type": "code",
   "execution_count": 65,
   "metadata": {},
   "outputs": [],
   "source": [
    "DST_PATH = 'data/mfccs_genres'\n",
    "os.mkdir(DST_PATH)\n",
    "for cl in cls:\n",
    "    os.mkdir(os.path.join(DST_PATH, cl))"
   ]
  },
  {
   "cell_type": "code",
   "execution_count": 67,
   "metadata": {},
   "outputs": [
    {
     "name": "stdout",
     "output_type": "stream",
     "text": [
      "Progess: 850 / 850\r"
     ]
    }
   ],
   "source": [
    "for i, (f, mfcc) in enumerate(mfccs.items()):\n",
    "    print(\"Progess: %d / %d\" % (i + 1, len(mfccs)), end='\\r')\n",
    "    np.save(os.path.join(DST_PATH, '/'.join(f.split('\\\\')[-2:])), mfcc)"
   ]
  },
  {
   "cell_type": "code",
   "execution_count": null,
   "metadata": {},
   "outputs": [],
   "source": []
  }
 ],
 "metadata": {
  "kernelspec": {
   "display_name": "Python 3",
   "language": "python",
   "name": "python3"
  },
  "language_info": {
   "codemirror_mode": {
    "name": "ipython",
    "version": 3
   },
   "file_extension": ".py",
   "mimetype": "text/x-python",
   "name": "python",
   "nbconvert_exporter": "python",
   "pygments_lexer": "ipython3",
   "version": "3.6.4"
  }
 },
 "nbformat": 4,
 "nbformat_minor": 2
}
